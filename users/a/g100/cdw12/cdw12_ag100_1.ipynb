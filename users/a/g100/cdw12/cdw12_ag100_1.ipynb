{
 "cells": [
  {
   "cell_type": "code",
   "execution_count": 1,
   "metadata": {
    "collapsed": false
   },
   "outputs": [
    {
     "ename": "ImportError",
     "evalue": "No module named 'sympy'",
     "output_type": "error",
     "traceback": [
      "\u001b[1;31m---------------------------------------------------------------------------\u001b[0m",
      "\u001b[1;31mImportError\u001b[0m                               Traceback (most recent call last)",
      "\u001b[1;32m<ipython-input-1-0fe682989e16>\u001b[0m in \u001b[0;36m<module>\u001b[1;34m()\u001b[0m\n\u001b[1;32m----> 1\u001b[1;33m \u001b[1;32mfrom\u001b[0m \u001b[0msympy\u001b[0m \u001b[1;32mimport\u001b[0m \u001b[1;33m*\u001b[0m\u001b[1;33m\u001b[0m\u001b[0m\n\u001b[0m\u001b[0;32m      2\u001b[0m \u001b[1;32mimport\u001b[0m \u001b[0mmath\u001b[0m\u001b[1;33m\u001b[0m\u001b[0m\n\u001b[0;32m      3\u001b[0m \u001b[1;31m# center of left circle\u001b[0m\u001b[1;33m\u001b[0m\u001b[1;33m\u001b[0m\u001b[0m\n\u001b[0;32m      4\u001b[0m \u001b[0mx1\u001b[0m \u001b[1;33m=\u001b[0m \u001b[0mSymbol\u001b[0m\u001b[1;33m(\u001b[0m\u001b[1;34m'x1'\u001b[0m\u001b[1;33m)\u001b[0m\u001b[1;33m\u001b[0m\u001b[0m\n\u001b[0;32m      5\u001b[0m \u001b[0my1\u001b[0m \u001b[1;33m=\u001b[0m \u001b[0mSymbol\u001b[0m\u001b[1;33m(\u001b[0m\u001b[1;34m'y1'\u001b[0m\u001b[1;33m)\u001b[0m\u001b[1;33m\u001b[0m\u001b[0m\n",
      "\u001b[1;31mImportError\u001b[0m: No module named 'sympy'"
     ]
    }
   ],
   "source": [
    "from sympy import *\n",
    "import math\n",
    "# center of left circle\n",
    "x1 = Symbol('x1')\n",
    "y1 = Symbol('y1')\n",
    "# center of right circle\n",
    "x2 = Symbol('x2')\n",
    "y2 = Symbol('y2')\n",
    "# left tangent points\n",
    "x3 = Symbol('x3')\n",
    "y3 = Symbol('y3')\n",
    "# right tangent points\n",
    "x4 = Symbol('x4')\n",
    "y4 = Symbol('y4')\n",
    "\n",
    "chainlength = 20\n",
    "leftdegree = 20\n",
    "rightdegree = 12\n",
    "leftr = chainlength/2/math.sin(leftdegree*math.pi/180/2)\n",
    "rightr = chainlength/2/math.sin(rightdegree*math.pi/180/2)\n",
    "#print(leftr,\"\\n\",rightr)\n",
    "# tangent line is 10 sets of chain\n",
    "len34 = 10*chainlength\n",
    "# (x3-x4)**2+(y3-y4)**2-len34**2 表示 (x3, y3) 與 (x4, y4)距離 len34\n",
    "# (x1-x3)**2+(y1-y3)**2-(leftr)**2 表示 (x1, y1) 與 (x3, y3) 距離為左圓半徑\n",
    "# (x2-x4)**2+(y2-y4)**2-(rightr)**2 表示 (x2, y2) 與 (x4, y4) 距離為右圓半徑\n",
    "# (x1-x4)**2+(y1-y4)**2-len34**2-(leftr)**2 表示左圓心與兩個相切點所圍成直角三角形邊長關係\n",
    "# (x2-x3)**2+(y2-y3)**2-len34**2-(rightr)**2 表示右圓心與兩個相切點所圍成直角三角形邊長關係\n",
    "\n",
    "answer = solve([(x3-x4)**2+(y3-y4)**2-len34**2, \\\n",
    "(x1-x3)**2+(y1-y3)**2-(leftr)**2, \\\n",
    "(x2-x4)**2+(y2-y4)**2-(rightr)**2, \\\n",
    "(x1-x4)**2+(y1-y4)**2-len34**2-(leftr)**2, \\\n",
    "(x2-x3)**2+(y2-y3)**2-len34**2-(rightr)**2, y1, x2, y2], \\\n",
    "[x1, y1, x2, y2, x3, y3, x4, y4])\n",
    "\n",
    "for i in range(len(answer)):\n",
    "    print(answer[i])\n"
   ]
  },
  {
   "cell_type": "code",
   "execution_count": null,
   "metadata": {
    "collapsed": true
   },
   "outputs": [],
   "source": []
  }
 ],
 "metadata": {
  "kernelspec": {
   "display_name": "Python 3",
   "language": "python",
   "name": "python3"
  },
  "language_info": {
   "codemirror_mode": {
    "name": "ipython",
    "version": 3
   },
   "file_extension": ".py",
   "mimetype": "text/x-python",
   "name": "python",
   "nbconvert_exporter": "python",
   "pygments_lexer": "ipython3",
   "version": "3.4.4rc1"
  }
 },
 "nbformat": 4,
 "nbformat_minor": 0
}
